{
  "nbformat": 4,
  "nbformat_minor": 0,
  "metadata": {
    "colab": {
      "provenance": []
    },
    "kernelspec": {
      "name": "python3",
      "display_name": "Python 3"
    },
    "language_info": {
      "name": "python"
    }
  },
  "cells": [
    {
      "cell_type": "markdown",
      "source": [
        "Problema 1"
      ],
      "metadata": {
        "id": "YIR7DbAuhxut"
      }
    },
    {
      "cell_type": "code",
      "source": [],
      "metadata": {
        "id": "bAC8vM2Xm41i"
      },
      "execution_count": null,
      "outputs": []
    },
    {
      "cell_type": "code",
      "source": [
        "#Hacer un programa que imprima los números del 1 al 100.\n",
        "\n",
        "x = range(1,101)\n",
        "for n in x:\n",
        "    print(n)"
      ],
      "metadata": {
        "id": "TGs1s96LhqlK",
        "colab": {
          "base_uri": "https://localhost:8080/"
        },
        "outputId": "a14711e9-9f60-4ffe-b5eb-415aaab4e6ec"
      },
      "execution_count": 18,
      "outputs": [
        {
          "output_type": "stream",
          "name": "stdout",
          "text": [
            "1\n",
            "2\n",
            "3\n",
            "4\n",
            "5\n",
            "6\n",
            "7\n",
            "8\n",
            "9\n",
            "10\n",
            "11\n",
            "12\n",
            "13\n",
            "14\n",
            "15\n",
            "16\n",
            "17\n",
            "18\n",
            "19\n",
            "20\n",
            "21\n",
            "22\n",
            "23\n",
            "24\n",
            "25\n",
            "26\n",
            "27\n",
            "28\n",
            "29\n",
            "30\n",
            "31\n",
            "32\n",
            "33\n",
            "34\n",
            "35\n",
            "36\n",
            "37\n",
            "38\n",
            "39\n",
            "40\n",
            "41\n",
            "42\n",
            "43\n",
            "44\n",
            "45\n",
            "46\n",
            "47\n",
            "48\n",
            "49\n",
            "50\n",
            "51\n",
            "52\n",
            "53\n",
            "54\n",
            "55\n",
            "56\n",
            "57\n",
            "58\n",
            "59\n",
            "60\n",
            "61\n",
            "62\n",
            "63\n",
            "64\n",
            "65\n",
            "66\n",
            "67\n",
            "68\n",
            "69\n",
            "70\n",
            "71\n",
            "72\n",
            "73\n",
            "74\n",
            "75\n",
            "76\n",
            "77\n",
            "78\n",
            "79\n",
            "80\n",
            "81\n",
            "82\n",
            "83\n",
            "84\n",
            "85\n",
            "86\n",
            "87\n",
            "88\n",
            "89\n",
            "90\n",
            "91\n",
            "92\n",
            "93\n",
            "94\n",
            "95\n",
            "96\n",
            "97\n",
            "98\n",
            "99\n",
            "100\n"
          ]
        }
      ]
    },
    {
      "cell_type": "markdown",
      "source": [
        "Problema 2"
      ],
      "metadata": {
        "id": "YDCtmAWjyld8"
      }
    },
    {
      "cell_type": "code",
      "source": [
        "#Hacer un programa que imprima los números del 1 al 100 que sean divisibles entre 3 (con resto 0)\n",
        "x = range (1,101)\n",
        "for n in x:\n",
        "  if n %3 == 0:\n",
        "      print (n)"
      ],
      "metadata": {
        "colab": {
          "base_uri": "https://localhost:8080/"
        },
        "id": "RzUpY3Ldq42D",
        "outputId": "aa184742-e905-46e5-930e-ae408c925bea"
      },
      "execution_count": 15,
      "outputs": [
        {
          "output_type": "stream",
          "name": "stdout",
          "text": [
            "3\n",
            "6\n",
            "9\n",
            "12\n",
            "15\n",
            "18\n",
            "21\n",
            "24\n",
            "27\n",
            "30\n",
            "33\n",
            "36\n",
            "39\n",
            "42\n",
            "45\n",
            "48\n",
            "51\n",
            "54\n",
            "57\n",
            "60\n",
            "63\n",
            "66\n",
            "69\n",
            "72\n",
            "75\n",
            "78\n",
            "81\n",
            "84\n",
            "87\n",
            "90\n",
            "93\n",
            "96\n",
            "99\n"
          ]
        }
      ]
    },
    {
      "cell_type": "markdown",
      "source": [
        "Problema 3"
      ],
      "metadata": {
        "id": "E9CWvnJIyopw"
      }
    },
    {
      "cell_type": "code",
      "source": [
        "#Pseudocódigo, Sumador y comparador de dos números Realiza el algoritmo para un sumador de dos números. Si el resultado es menor a 100 se mostrará el mensaje \"menor a 100\", si el resultado es mayor a 100, pero menor a 150 mostrará el mensaje \"mayor a 100\", pero si es mayor a 150 mostrará el mensaje \"mayor a 150\".\n",
        "num1 = int(input(\"Ingrese su primer número \\n\"))\n",
        "num2 = int(input(\"Ingrese su segundo número \\n\"))\n",
        "\n",
        "suma = num1 + num2\n",
        "\n",
        "if (suma< 100):\n",
        "  resultado = \"es menor a 100\"\n",
        "else:\n",
        "  if (suma > 100 and suma <150):\n",
        "    resultado = \"es mayor a 100 y menor a 150\"\n",
        "  else:\n",
        "    resultado = \"es mayor a 150\"\n",
        "print(resultado)"
      ],
      "metadata": {
        "colab": {
          "base_uri": "https://localhost:8080/"
        },
        "id": "FLk9HeMUxJzQ",
        "outputId": "aa0b1778-3d4a-4e60-f338-7d7588779e70"
      },
      "execution_count": 17,
      "outputs": [
        {
          "output_type": "stream",
          "name": "stdout",
          "text": [
            "Ingrese su primer número \n",
            "20\n",
            "Ingrese su segundo número \n",
            "55\n",
            "es menor a 100\n"
          ]
        }
      ]
    },
    {
      "cell_type": "markdown",
      "source": [
        "Problema 4"
      ],
      "metadata": {
        "id": "TtCr1vMvyri7"
      }
    },
    {
      "cell_type": "code",
      "source": [
        "#Generar un programa que combine variables, tipos de datos y una condicional en Python (hacer una función que evalúe si el usuario es mayor de edad y si le gusta la programación, que envíe diferentes textos según la respuesta del usuario)\n",
        "edad = int(input(\"¿Cuál es tu edad? \"))\n",
        "programacion = input(\"¿Te gusta la programación? (Sí/No)\")\n",
        "\n",
        "if edad >= 18:\n",
        "    if programacion == \"Sí\":\n",
        "        print(\"Eres mayor de edad y te gusta la programación!\")\n",
        "    else:\n",
        "        print(\"Eres mayor de edad, pero no te gusta la programación\")\n",
        "else:\n",
        "    if programacion == \"Sí\":\n",
        "        print(\"Eres menor de edad, pero ya te gusta la programación\")\n",
        "    else:\n",
        "        print(\"Eres menor de edad y no te gusta la programación\")"
      ],
      "metadata": {
        "colab": {
          "base_uri": "https://localhost:8080/"
        },
        "id": "jK6DaAV1yRNi",
        "outputId": "a2c1d62e-9e76-4b08-ad98-a991c9b41cce"
      },
      "execution_count": 19,
      "outputs": [
        {
          "output_type": "stream",
          "name": "stdout",
          "text": [
            "¿Cuál es tu edad? 18\n",
            "¿Te gusta la programación? (Sí/No)No\n",
            "Eres mayor de edad, pero no te gusta la programación\n"
          ]
        }
      ]
    }
  ]
}